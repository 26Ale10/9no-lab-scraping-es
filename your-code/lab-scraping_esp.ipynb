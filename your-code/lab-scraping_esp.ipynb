{
 "cells": [
  {
   "cell_type": "markdown",
   "metadata": {
    "toc": true
   },
   "source": [
    "<h1>Table of Contents<span class=\"tocSkip\"></span></h1>\n",
    "<div class=\"toc\"><ul class=\"toc-item\"><li><span><a href=\"#Web-Scraping-Lab\" data-toc-modified-id=\"Web-Scraping-Lab-1\"><span class=\"toc-item-num\">1&nbsp;&nbsp;</span>Web Scraping Lab</a></span><ul class=\"toc-item\"><li><ul class=\"toc-item\"><li><span><a href=\"#Useful-Resources\" data-toc-modified-id=\"Useful-Resources-1.0.1\"><span class=\"toc-item-num\">1.0.1&nbsp;&nbsp;</span>Useful Resources</a></span><ul class=\"toc-item\"><li><span><a href=\"#First-of-all,-gathering-our-tools.\" data-toc-modified-id=\"First-of-all,-gathering-our-tools.-1.0.1.1\"><span class=\"toc-item-num\">1.0.1.1&nbsp;&nbsp;</span>First of all, gathering our tools.</a></span></li><li><span><a href=\"#Challenge-1---Download,-parse-(using-BeautifulSoup),-and-print-the-content-from-the-Trending-Developers-page-from-GitHub:\" data-toc-modified-id=\"Challenge-1---Download,-parse-(using-BeautifulSoup),-and-print-the-content-from-the-Trending-Developers-page-from-GitHub:-1.0.1.2\"><span class=\"toc-item-num\">1.0.1.2&nbsp;&nbsp;</span>Challenge 1 - Download, parse (using BeautifulSoup), and print the content from the Trending Developers page from GitHub:</a></span></li><li><span><a href=\"#Display-the-names-of-the-trending-developers-retrieved-in-the-previous-step.\" data-toc-modified-id=\"Display-the-names-of-the-trending-developers-retrieved-in-the-previous-step.-1.0.1.3\"><span class=\"toc-item-num\">1.0.1.3&nbsp;&nbsp;</span>Display the names of the trending developers retrieved in the previous step.</a></span></li><li><span><a href=\"#Challenge-2---Display-the-trending-Python-repositories-in-GitHub\" data-toc-modified-id=\"Challenge-2---Display-the-trending-Python-repositories-in-GitHub-1.0.1.4\"><span class=\"toc-item-num\">1.0.1.4&nbsp;&nbsp;</span>Challenge 2 - Display the trending Python repositories in GitHub</a></span></li><li><span><a href=\"#Challenge-3---Display-all-the-image-links-from-Walt-Disney-wikipedia-page\" data-toc-modified-id=\"Challenge-3---Display-all-the-image-links-from-Walt-Disney-wikipedia-page-1.0.1.5\"><span class=\"toc-item-num\">1.0.1.5&nbsp;&nbsp;</span>Challenge 3 - Display all the image links from Walt Disney wikipedia page</a></span></li><li><span><a href=\"#Challenge-4---Retrieve-all-links-to-pages-on-Wikipedia-that-refer-to-some-kind-of-Python.\" data-toc-modified-id=\"Challenge-4---Retrieve-all-links-to-pages-on-Wikipedia-that-refer-to-some-kind-of-Python.-1.0.1.6\"><span class=\"toc-item-num\">1.0.1.6&nbsp;&nbsp;</span>Challenge 4 - Retrieve all links to pages on Wikipedia that refer to some kind of Python.</a></span></li><li><span><a href=\"#Challenge-5---Number-of-Titles-that-have-changed-in-the-United-States-Code-since-its-last-release-point\" data-toc-modified-id=\"Challenge-5---Number-of-Titles-that-have-changed-in-the-United-States-Code-since-its-last-release-point-1.0.1.7\"><span class=\"toc-item-num\">1.0.1.7&nbsp;&nbsp;</span>Challenge 5 - Number of Titles that have changed in the United States Code since its last release point</a></span></li><li><span><a href=\"#Challenge-6---A-Python-list-with-the-top-ten-FBI's-Most-Wanted-names\" data-toc-modified-id=\"Challenge-6---A-Python-list-with-the-top-ten-FBI's-Most-Wanted-names-1.0.1.8\"><span class=\"toc-item-num\">1.0.1.8&nbsp;&nbsp;</span>Challenge 6 - A Python list with the top ten FBI's Most Wanted names</a></span></li><li><span><a href=\"#Challenge-7---List-all-language-names-and-number-of-related-articles-in-the-order-they-appear-in-wikipedia.org\" data-toc-modified-id=\"Challenge-7---List-all-language-names-and-number-of-related-articles-in-the-order-they-appear-in-wikipedia.org-1.0.1.9\"><span class=\"toc-item-num\">1.0.1.9&nbsp;&nbsp;</span>Challenge 7 - List all language names and number of related articles in the order they appear in wikipedia.org</a></span></li><li><span><a href=\"#Challenge-8---A-list-with-the-different-kind-of-datasets-available-in-data.gov.uk\" data-toc-modified-id=\"Challenge-8---A-list-with-the-different-kind-of-datasets-available-in-data.gov.uk-1.0.1.10\"><span class=\"toc-item-num\">1.0.1.10&nbsp;&nbsp;</span>Challenge 8 - A list with the different kind of datasets available in data.gov.uk</a></span></li><li><span><a href=\"#Challenge-9---Top-10-languages-by-number-of-native-speakers-stored-in-a-Pandas-Dataframe\" data-toc-modified-id=\"Challenge-9---Top-10-languages-by-number-of-native-speakers-stored-in-a-Pandas-Dataframe-1.0.1.11\"><span class=\"toc-item-num\">1.0.1.11&nbsp;&nbsp;</span>Challenge 9 - Top 10 languages by number of native speakers stored in a Pandas Dataframe</a></span></li></ul></li><li><span><a href=\"#Stepping-up-the-game\" data-toc-modified-id=\"Stepping-up-the-game-1.0.2\"><span class=\"toc-item-num\">1.0.2&nbsp;&nbsp;</span>Stepping up the game</a></span><ul class=\"toc-item\"><li><span><a href=\"#Challenge-10---The-20-latest-earthquakes-info-(date,-time,-latitude,-longitude-and-region-name)-by-the-EMSC-as-a-pandas-dataframe\" data-toc-modified-id=\"Challenge-10---The-20-latest-earthquakes-info-(date,-time,-latitude,-longitude-and-region-name)-by-the-EMSC-as-a-pandas-dataframe-1.0.2.1\"><span class=\"toc-item-num\">1.0.2.1&nbsp;&nbsp;</span>Challenge 10 - The 20 latest earthquakes info (date, time, latitude, longitude and region name) by the EMSC as a pandas dataframe</a></span></li><li><span><a href=\"#Challenge-11---IMDB's-Top-250-data-(movie-name,-Initial-release,-director-name-and-stars)-as-a-pandas-dataframe\" data-toc-modified-id=\"Challenge-11---IMDB's-Top-250-data-(movie-name,-Initial-release,-director-name-and-stars)-as-a-pandas-dataframe-1.0.2.2\"><span class=\"toc-item-num\">1.0.2.2&nbsp;&nbsp;</span>Challenge 11 - IMDB's Top 250 data (movie name, Initial release, director name and stars) as a pandas dataframe</a></span></li><li><span><a href=\"#Challenge-12---Movie-name,-year-and-a-brief-summary-of-the-top-10-random-movies-(IMDB)-as-a-pandas-dataframe.\" data-toc-modified-id=\"Challenge-12---Movie-name,-year-and-a-brief-summary-of-the-top-10-random-movies-(IMDB)-as-a-pandas-dataframe.-1.0.2.3\"><span class=\"toc-item-num\">1.0.2.3&nbsp;&nbsp;</span>Challenge 12 - Movie name, year and a brief summary of the top 10 random movies (IMDB) as a pandas dataframe.</a></span></li><li><span><a href=\"#Challenge-13---Find-the-live-weather-report-(temperature,-wind-speed,-description-and-weather)-of-a-given-city.\" data-toc-modified-id=\"Challenge-13---Find-the-live-weather-report-(temperature,-wind-speed,-description-and-weather)-of-a-given-city.-1.0.2.4\"><span class=\"toc-item-num\">1.0.2.4&nbsp;&nbsp;</span>Challenge 13 - Find the live weather report (temperature, wind speed, description and weather) of a given city.</a></span></li><li><span><a href=\"#Challenge-14---Book-name,price-and-stock-availability-as-a-pandas-dataframe.\" data-toc-modified-id=\"Challenge-14---Book-name,price-and-stock-availability-as-a-pandas-dataframe.-1.0.2.5\"><span class=\"toc-item-num\">1.0.2.5&nbsp;&nbsp;</span>Challenge 14 - Book name,price and stock availability as a pandas dataframe.</a></span></li></ul></li></ul></li></ul></li></ul></div>"
   ]
  },
  {
   "cell_type": "markdown",
   "metadata": {},
   "source": [
    "# Laboratorio de Web Scraping\n",
    "\n",
    "Encontrarás en este cuaderno algunos ejercicios de web scraping para practicar tus habilidades de scraping usando `requests` y `Beautiful Soup`.\n",
    "\n",
    "**Consejos:**\n",
    "\n",
    "- Verifica el [código de estado de la respuesta](https://http.cat/) para cada solicitud para asegurarte de haber obtenido el contenido previsto.\n",
    "- Observa el código HTML en cada solicitud para entender el tipo de información que estás obteniendo y su formato.\n",
    "- Busca patrones en el texto de respuesta para extraer los datos/información solicitados en cada pregunta.\n",
    "- Visita cada URL y echa un vistazo a su fuente a través de Chrome DevTools. Necesitarás identificar las etiquetas HTML, nombres de clases especiales, etc., utilizados para el contenido HTML que se espera extraer.\n",
    "- Revisa los selectores CSS.\n",
    "\n",
    "### Recursos Útiles\n",
    "- Documentación de la [biblioteca Requests](http://docs.python-requests.org/en/master/#the-user-guide)\n",
    "- [Doc de Beautiful Soup](https://www.crummy.com/software/BeautifulSoup/bs4/doc/)\n",
    "- [Lista de códigos de estado HTTP](https://en.wikipedia.org/wiki/List_of_HTTP_status_codes)\n",
    "- [Conceptos básicos de HTML](http://www.simplehtmlguide.com/cheatsheet.php)\n",
    "- [Conceptos básicos de CSS](https://www.cssbasics.com/#page_start)\n",
    "\n",
    "#### Primero que todo, reuniendo nuestras herramientas."
   ]
  },
  {
   "cell_type": "code",
   "execution_count": 3,
   "metadata": {},
   "outputs": [
    {
     "name": "stderr",
     "output_type": "stream",
     "text": [
      "C:\\Users\\Aleja\\AppData\\Local\\Temp\\ipykernel_25472\\3939065921.py:3: DeprecationWarning: \n",
      "Pyarrow will become a required dependency of pandas in the next major release of pandas (pandas 3.0),\n",
      "(to allow more performant data types, such as the Arrow string type, and better interoperability with other libraries)\n",
      "but was not found to be installed on your system.\n",
      "If this would cause problems for you,\n",
      "please provide us feedback at https://github.com/pandas-dev/pandas/issues/54466\n",
      "        \n",
      "  import pandas as pd\n"
     ]
    }
   ],
   "source": [
    "import requests\n",
    "from bs4 import BeautifulSoup\n",
    "import pandas as pd\n",
    "import json"
   ]
  },
  {
   "cell_type": "markdown",
   "metadata": {},
   "source": [
    "⚠️ **Nuevamente, recuerda limitar tu salida antes de la entrega para que tu código no se pierda en la salida.**\n",
    "\n",
    "#### Desafío 1 - Descargar, analizar (usando BeautifulSoup) e imprimir el contenido de la página de Desarrolladores en Tendencia de GitHub:"
   ]
  },
  {
   "cell_type": "code",
   "execution_count": 2,
   "metadata": {},
   "outputs": [],
   "source": [
    "# This is the url you will scrape in this exercise\n",
    "url = 'https://github.com/trending/developers'"
   ]
  },
  {
   "cell_type": "code",
   "execution_count": 3,
   "metadata": {},
   "outputs": [],
   "source": [
    "github_html=requests.get(url).text\n",
    "soup = BeautifulSoup(github_html, \"html.parser\")"
   ]
  },
  {
   "cell_type": "markdown",
   "metadata": {},
   "source": [
    "#### Muestra los nombres de los desarrolladores en tendencia recuperados en el paso anterior.\n",
    "\n",
    "Tu salida debe ser una lista de Python con los nombres de los desarrolladores. Cada nombre no debe contener ninguna etiqueta HTML.\n",
    "\n",
    "**Instrucciones:**\n",
    "\n",
    "1. Descubre la etiqueta HTML y los nombres de clase usados para los nombres de los desarrolladores. Puedes lograr esto usando Chrome DevTools.\n",
    "\n",
    "1. Usa BeautifulSoup para extraer todos los elementos HTML que contienen los nombres de los desarrolladores.\n",
    "\n",
    "1. Utiliza técnicas de manipulación de cadenas para reemplazar espacios en blanco y saltos de línea (es decir, `\\n`) en el *texto* de cada elemento HTML. Usa una lista para almacenar los nombres limpios.\n",
    "\n",
    "1. Imprime la lista de nombres.\n",
    "\n",
    "Tu salida debería lucir como abajo (con nombres diferentes):\n",
    "\n",
    "```\n",
    "['trimstray (@trimstray)',\n",
    " 'joewalnes (JoeWalnes)',\n",
    " 'charlax (Charles-AxelDein)',\n",
    " 'ForrestKnight (ForrestKnight)',\n",
    " 'revery-ui (revery-ui)',\n",
    " 'alibaba (Alibaba)',\n",
    " 'Microsoft (Microsoft)',\n",
    " 'github (GitHub)',\n",
    " 'facebook (Facebook)',\n",
    " 'boazsegev (Bo)',\n",
    " 'google (Google)',\n",
    " 'cloudfetch',\n",
    " 'sindresorhus (SindreSorhus)',\n",
    " 'tensorflow',\n",
    " 'apache (TheApacheSoftwareFoundation)',\n",
    " 'DevonCrawford (DevonCrawford)',\n",
    " 'ARMmbed (ArmMbed)',\n",
    " 'vuejs (vuejs)',\n",
    " 'fastai (fast.ai)',\n",
    " 'QiShaoXuan (Qi)',\n",
    " 'joelparkerhenderson (JoelParkerHenderson)',\n",
    " 'torvalds (LinusTorvalds)',\n",
    " 'CyC2018',\n",
    " 'komeiji-satori (神楽坂覚々)',\n",
    " 'script-8']\n",
    " ```"
   ]
  },
  {
   "cell_type": "code",
   "execution_count": 4,
   "metadata": {},
   "outputs": [
    {
     "data": {
      "text/plain": [
       "['Sebastian Raschka',\n",
       " 'LangChain4j',\n",
       " 'Norman Maurer',\n",
       " 'doronz88',\n",
       " 'JJ Kasper',\n",
       " 'Miguel Beltran',\n",
       " 'Vik Paruchuri',\n",
       " 'Arthur',\n",
       " 'Holt Skinner',\n",
       " 'Huang Huang',\n",
       " 'Aliaksandr Valialkin',\n",
       " 'Massimiliano Pippi',\n",
       " 'Jack Lloyd',\n",
       " 'Rich Harris',\n",
       " 'Tobias Klauser',\n",
       " 'Lukas Masuch',\n",
       " 'Charlie Marsh',\n",
       " 'Steven Silvester',\n",
       " 'Matthias Seitz',\n",
       " 'Justin Lebar',\n",
       " 'Mattias Wadman',\n",
       " 'David Sherret',\n",
       " 'Gal Schlezinger',\n",
       " 'Mitchell Hashimoto',\n",
       " 'awaelchli']"
      ]
     },
     "execution_count": 4,
     "metadata": {},
     "output_type": "execute_result"
    }
   ],
   "source": [
    "# Tu código aquí\n",
    "import re\n",
    "desarrolladores = soup.find_all('h1', attrs={'class':'h3 lh-condensed'})\n",
    "lista_de_nombres = []\n",
    "for desarrollador in desarrolladores:\n",
    "    nombre_con_salto = desarrollador.text.strip()\n",
    "    nombre_sin_saltos = re.sub(r'\\n.*', '', nombre_con_salto)\n",
    "    lista_de_nombres.append(nombre_sin_saltos)\n",
    "lista_de_nombres"
   ]
  },
  {
   "cell_type": "markdown",
   "metadata": {},
   "source": [
    "#### Desafío 2 - Mostrar los repositorios de Python en tendencia en GitHub\n",
    "\n",
    "Los pasos para resolver este problema son similares al anterior, excepto que necesitas encontrar los nombres de los repositorios en lugar de los nombres de los desarrolladores."
   ]
  },
  {
   "cell_type": "code",
   "execution_count": 5,
   "metadata": {},
   "outputs": [],
   "source": [
    "# This is the url you will scrape in this exercise\n",
    "url2 = 'https://github.com/trending/python?since=daily'\n",
    "datos2 = requests.get(f\"{url2}\").text\n",
    "soup2 = BeautifulSoup(datos2, 'html.parser')"
   ]
  },
  {
   "cell_type": "code",
   "execution_count": 6,
   "metadata": {},
   "outputs": [
    {
     "data": {
      "text/plain": [
       "['khoj-ai @khoj',\n",
       " 'OpenBMB @MiniCPM-V',\n",
       " 'Codium-ai @cover-agent',\n",
       " 'modelscope @swift',\n",
       " 'searxng @searxng',\n",
       " 'danielmiessler @fabric',\n",
       " 'TagStudioDev @TagStudio',\n",
       " 'dataelement @bisheng',\n",
       " 'infiniflow @ragflow',\n",
       " 'lavague-ai @LaVague',\n",
       " 'instructlab @instructlab',\n",
       " 'Lightning-AI @litgpt',\n",
       " 'bregman-arie @devops-exercises',\n",
       " 'Azure @PyRIT',\n",
       " 'dagster-io @dagster',\n",
       " 'PostHog @posthog',\n",
       " 'kangpeilun @VastGaussian',\n",
       " 'Avaiga @taipy',\n",
       " 'pytube @pytube',\n",
       " 'assafelovic @gpt-researcher',\n",
       " 'baidubce @app-builder',\n",
       " 'OpenDevin @OpenDevin',\n",
       " 'LC044 @WeChatMsg',\n",
       " 'darrenburns @elia',\n",
       " 'huggingface @alignment-handbook']"
      ]
     },
     "execution_count": 6,
     "metadata": {},
     "output_type": "execute_result"
    }
   ],
   "source": [
    "# Tu código aquí\n",
    "import re\n",
    "repositorios = soup2.find_all('h2', attrs={'class':'h3 lh-condensed'})\n",
    "lista_de_repos = []\n",
    "for repo in repositorios:\n",
    "    nombre_repo = repo.text.strip()\n",
    "    nombre_limpio = nombre_repo.replace('/\\n\\n      ',\"@\")\n",
    "    lista_de_repos.append(nombre_limpio)\n",
    "lista_de_repos"
   ]
  },
  {
   "cell_type": "markdown",
   "metadata": {},
   "source": [
    "#### Desafío 3 - Mostrar todos los enlaces de imágenes de la página de Wikipedia de Walt Disney"
   ]
  },
  {
   "cell_type": "code",
   "execution_count": 7,
   "metadata": {},
   "outputs": [],
   "source": [
    "# This is the url you will scrape in this exercise\n",
    "url3 = 'https://en.wikipedia.org/wiki/Walt_Disney'\n",
    "disney = requests.get(f\"{url3}\").text\n",
    "soup3 = BeautifulSoup(disney, 'html.parser')"
   ]
  },
  {
   "cell_type": "code",
   "execution_count": 8,
   "metadata": {},
   "outputs": [
    {
     "data": {
      "text/plain": [
       "['/wiki/File:Walt_Disney_1946.JPG',\n",
       " '/wiki/File:Walt_Disney_1942_signature.svg',\n",
       " '/wiki/File:Walt_Disney_Birthplace_Exterior_Hermosa_Chicago_Illinois.jpg',\n",
       " '/wiki/File:Walt_Disney_envelope_ca._1921.jpg',\n",
       " '/wiki/File:Walt_Disney_Snow_white_1937_trailer_screenshot_(13).jpg',\n",
       " '/wiki/File:Disney_drawing_goofy.jpg',\n",
       " '/wiki/File:WaltDisneyplansDisneylandDec1954.jpg',\n",
       " '/wiki/File:Walt_disney_portrait_right.jpg',\n",
       " '/wiki/File:Walt_Disney_Grave.JPG',\n",
       " '/wiki/File:DisneySchiphol1951.jpg',\n",
       " '/wiki/File:Disney1968.jpg',\n",
       " '/wiki/File:Disney_Oscar_1953_(cropped).jpg',\n",
       " '/wiki/File:Disneyland_Resort_logo.svg',\n",
       " '/wiki/File:Animation_disc.svg',\n",
       " '/wiki/File:Mickey_Mouse_colored_(head).svg',\n",
       " '/wiki/File:Blank_television_set.svg']"
      ]
     },
     "execution_count": 8,
     "metadata": {},
     "output_type": "execute_result"
    }
   ],
   "source": [
    "# Tu código aquí\n",
    "imagenes = soup3.find_all('a', attrs={'class':'mw-file-description'})\n",
    "links_imagenes = []\n",
    "for imagen in imagenes:\n",
    "    links = imagen.get(\"href\")\n",
    "    links_imagenes.append(links)\n",
    "links_imagenes"
   ]
  },
  {
   "cell_type": "markdown",
   "metadata": {},
   "source": [
    "#### Desafío 4 - Recuperar todos los enlaces a páginas en Wikipedia que se refieren a algún tipo de Python."
   ]
  },
  {
   "cell_type": "code",
   "execution_count": 9,
   "metadata": {},
   "outputs": [],
   "source": [
    "url4 ='https://en.wikipedia.org/wiki/Python' \n",
    "python = requests.get(f\"{url4}\").text\n",
    "soup4 = BeautifulSoup(python, 'html.parser')"
   ]
  },
  {
   "cell_type": "code",
   "execution_count": 10,
   "metadata": {},
   "outputs": [
    {
     "data": {
      "text/plain": [
       "['https://en.wikipedia.orghttps://en.wiktionary.org/wiki/Python',\n",
       " 'https://en.wikipedia.org/wiki/Pythonidae',\n",
       " 'https://en.wikipedia.org/wiki/Python_(genus)',\n",
       " 'https://en.wikipedia.org/wiki/Python_(mythology)',\n",
       " 'https://en.wikipedia.org/wiki/Python_(programming_language)',\n",
       " 'https://en.wikipedia.org/wiki/Python_of_Aenus',\n",
       " 'https://en.wikipedia.org/wiki/Python_(painter)',\n",
       " 'https://en.wikipedia.org/wiki/Python_of_Byzantium',\n",
       " 'https://en.wikipedia.org/wiki/Python_of_Catana',\n",
       " 'https://en.wikipedia.org/wiki/Python_Anghelo',\n",
       " 'https://en.wikipedia.org/wiki/Python_(Efteling)',\n",
       " 'https://en.wikipedia.org/wiki/Python_(Busch_Gardens_Tampa_Bay)',\n",
       " 'https://en.wikipedia.org/wiki/Python_(Coney_Island,_Cincinnati,_Ohio)',\n",
       " 'https://en.wikipedia.org/wiki/Python_(automobile_maker)',\n",
       " 'https://en.wikipedia.org/wiki/Python_(Ford_prototype)',\n",
       " 'https://en.wikipedia.org/wiki/Python_(missile)',\n",
       " 'https://en.wikipedia.org/wiki/Python_(nuclear_primary)',\n",
       " 'https://en.wikipedia.org/wiki/Colt_Python',\n",
       " 'https://en.wikipedia.org/wiki/Python_(codename)',\n",
       " 'https://en.wikipedia.org/wiki/Python_(film)',\n",
       " 'https://en.wikipedia.org/wiki/Monty_Python',\n",
       " 'https://en.wikipedia.org/wiki/Python_(Monty)_Pictures',\n",
       " 'https://en.wikipedia.orghttps://en.wikipedia.org/w/index.php?title=Python&oldid=1213626445']"
      ]
     },
     "execution_count": 10,
     "metadata": {},
     "output_type": "execute_result"
    }
   ],
   "source": [
    "pythons = soup4.find_all('a', href=True)\n",
    "lista_links_python = []\n",
    "palabra = 'Python'\n",
    "prefijo = 'https://en.wikipedia.org'\n",
    "for python in pythons:\n",
    "    if palabra in python.text:\n",
    "        links = python.get(\"href\")\n",
    "        lista_links_python.append(f\"{prefijo}{links}\")\n",
    "lista_links_python"
   ]
  },
  {
   "cell_type": "markdown",
   "metadata": {},
   "source": [
    "#### Desafío 5 - Número de Títulos que han cambiado en el Código de los Estados Unidos desde su último punto de lanzamiento"
   ]
  },
  {
   "cell_type": "code",
   "execution_count": 11,
   "metadata": {},
   "outputs": [],
   "source": [
    "# This is the url you will scrape in this exercise\n",
    "url5 = 'http://uscode.house.gov/download/download.shtml'\n",
    "cambio = requests.get(f\"{url5}\").text\n",
    "soup5 = BeautifulSoup(cambio, 'html.parser')\n"
   ]
  },
  {
   "cell_type": "code",
   "execution_count": 12,
   "metadata": {},
   "outputs": [
    {
     "name": "stdout",
     "output_type": "stream",
     "text": [
      "Total de Títulos que han cambiado en el Código de los Estados Unidos desde su último punto de lanzamiento es de: 2\n",
      "Los Títulos que han cambiado son:\n",
      "\n",
      "1.- Title 26 - Internal Revenue Code\n",
      "\n",
      "2.- Title 42 - The Public Health and Welfare\n"
     ]
    }
   ],
   "source": [
    "# Tu código aquí\n",
    "cambios = soup5.find_all('div',attrs={'class':'usctitlechanged'})\n",
    "lista_titulos_cambiados = []\n",
    "for cambio in cambios:\n",
    "    links = cambio.text.strip()\n",
    "    lista_titulos_cambiados.append(links)\n",
    "\n",
    "print(f\"Total de Títulos que han cambiado en el Código de los Estados Unidos desde su último punto de lanzamiento es de: {len(lista_titulos_cambiados)}\\nLos Títulos que han cambiado son:\")\n",
    "counter = 1\n",
    "for i in lista_titulos_cambiados:\n",
    "    print(f\"\\n{counter}.- {i}\")\n",
    "    counter+=1"
   ]
  },
  {
   "cell_type": "markdown",
   "metadata": {},
   "source": [
    "#### Desafío 6 - Una lista de Python con los diez nombres más buscados por el FBI"
   ]
  },
  {
   "cell_type": "code",
   "execution_count": 4,
   "metadata": {},
   "outputs": [],
   "source": [
    "# This is the url you will scrape in this exercise\n",
    "url6 = 'https://en.wikipedia.org/wiki/FBI_Ten_Most_Wanted_Fugitives'"
   ]
  },
  {
   "cell_type": "code",
   "execution_count": 18,
   "metadata": {},
   "outputs": [],
   "source": [
    "wanted = requests.get(f\"{url6}\").text\n",
    "soup6 = BeautifulSoup(wanted, 'html.parser')\n",
    "#wantedtag = soup7.find_all('h3')"
   ]
  },
  {
   "cell_type": "code",
   "execution_count": 26,
   "metadata": {},
   "outputs": [
    {
     "data": {
      "text/plain": [
       "['Alexis Flores',\n",
       " 'Bhadreshkumar Chetanbhai Patel',\n",
       " 'Alejandro Castillo',\n",
       " 'Arnoldo Jimenez',\n",
       " 'Yulan Adonay Archaga Carias',\n",
       " 'Ruja Ignatova',\n",
       " 'Omar Alexander Cardenas',\n",
       " 'Wilver Villegas-Palomino',\n",
       " 'Donald Eugene Fields II',\n",
       " \"Vitel'Homme Innocent\"]"
      ]
     },
     "execution_count": 26,
     "metadata": {},
     "output_type": "execute_result"
    }
   ],
   "source": [
    "# Tu código aquí\n",
    "names = requests.get(url6)\n",
    "name = BeautifulSoup(names.content, 'html.parser')\n",
    "\n",
    "fbi = soup6.find('tbody').find_all(\"div\", class_=\"center\")\n",
    "most_wanted = []\n",
    "\n",
    "for i in range(0, len(fbi), 3):\n",
    "    name = fbi[i].get_text()\n",
    "#    date = wantedrows[i + 1].get_text()\n",
    "#    seq_number = wantedrows[i + 2].get_text()\n",
    "    most_wanted.append(name)#, date, seq_number])\n",
    "\n",
    "most_wanted"
   ]
  },
  {
   "cell_type": "markdown",
   "metadata": {},
   "source": [
    "#### Desafío 7 - Listar todos los nombres de idiomas y el número de artículos relacionados en el orden en que aparecen en wikipedia.org"
   ]
  },
  {
   "cell_type": "code",
   "execution_count": 28,
   "metadata": {},
   "outputs": [],
   "source": [
    "# This is the url you will scrape in this exercise\n",
    "url7 = 'https://www.wikipedia.org/'"
   ]
  },
  {
   "cell_type": "code",
   "execution_count": 29,
   "metadata": {},
   "outputs": [],
   "source": [
    "languages = requests.get(f\"{url7}\")\n",
    "languages.encoding = 'uft-8'\n",
    "soup7 = BeautifulSoup(languages.text)\n",
    "langlist = soup7.find_all(\"div\", {\"class\": f\"central-featured-lang\"})"
   ]
  },
  {
   "cell_type": "code",
   "execution_count": 30,
   "metadata": {},
   "outputs": [
    {
     "name": "stdout",
     "output_type": "stream",
     "text": [
      "English: 6,796,000+ articles\n",
      "Русский: 1 969 000+ статей\n",
      "日本語: 1,407,000+ 記事\n",
      "Español: 1.938.000+ artículos\n",
      "Deutsch: 2.891.000+ Artikel\n",
      "Français: 2 598 000+ articles\n",
      "Italiano: 1.853.000+ voci\n",
      "中文: 1,409,000+ 条目 / 條目\n",
      "فارسی: ۹۹۵٬۰۰۰+ مقاله\n",
      "Português: 1.120.000+ artigos\n"
     ]
    }
   ],
   "source": [
    "# Tu código aquí\n",
    "language_list = []\n",
    "\n",
    "for language in langlist:\n",
    "    lnombres = language.find(\"strong\").text.strip()\n",
    "    larticulos = language.find(\"small\").text.strip()\n",
    "    language_list.append((lnombres,larticulos))\n",
    "for i,j in language_list:\n",
    "    print(f'{i}: {j}')"
   ]
  },
  {
   "cell_type": "markdown",
   "metadata": {},
   "source": [
    "#### Desafío 8 - Una lista con los diferentes tipos de conjuntos de datos disponibles en data.gov.uk"
   ]
  },
  {
   "cell_type": "code",
   "execution_count": 31,
   "metadata": {},
   "outputs": [],
   "source": [
    "# This is the url you will scrape in this exercise\n",
    "url8 = 'https://data.gov.uk/'\n",
    "dats = requests.get(f\"{url8}\")\n",
    "soup8 = BeautifulSoup(dats.content, 'html.parser')"
   ]
  },
  {
   "cell_type": "code",
   "execution_count": 32,
   "metadata": {},
   "outputs": [
    {
     "data": {
      "text/plain": [
       "['Business and economy',\n",
       " 'Crime and justice',\n",
       " 'Defence',\n",
       " 'Education',\n",
       " 'Environment',\n",
       " 'Government',\n",
       " 'Government spending',\n",
       " 'Health',\n",
       " 'Mapping',\n",
       " 'Society',\n",
       " 'Towns and cities',\n",
       " 'Transport',\n",
       " 'Digital service performance',\n",
       " 'Government reference data']"
      ]
     },
     "execution_count": 32,
     "metadata": {},
     "output_type": "execute_result"
    }
   ],
   "source": [
    "# Tu código aquí\n",
    "datos = soup8.find_all('h3', attrs={'class':\"govuk-heading-s dgu-topics__heading\" })\n",
    "\n",
    "lista_tipo_datos = []\n",
    "for dato in datos:\n",
    "  lista_tipo_datos.append(dato.text.strip())\n",
    "  \n",
    "lista_tipo_datos"
   ]
  },
  {
   "cell_type": "markdown",
   "metadata": {},
   "source": [
    "#### Desafío 9 - Los 10 idiomas con más hablantes nativos almacenados en un DataFrame de Pandas"
   ]
  },
  {
   "cell_type": "code",
   "execution_count": 120,
   "metadata": {},
   "outputs": [],
   "source": [
    "# This is the url you will scrape in this exercise\n",
    "url9 = 'https://en.wikipedia.org/wiki/List_of_languages_by_number_of_native_speakers'\n",
    "tenlang = requests.get(url9)\n",
    "soup9 = BeautifulSoup(tenlang.content,\"html.parser\")"
   ]
  },
  {
   "cell_type": "code",
   "execution_count": 121,
   "metadata": {},
   "outputs": [
    {
     "data": {
      "text/plain": [
       "['Mandarin Chinese',\n",
       " 'Spanish',\n",
       " 'English',\n",
       " 'Arabic',\n",
       " 'Hindi',\n",
       " 'Bengali',\n",
       " 'Portuguese',\n",
       " 'Russian',\n",
       " 'Japanese',\n",
       " 'Western Punjabi',\n",
       " 'Javanese']"
      ]
     },
     "execution_count": 121,
     "metadata": {},
     "output_type": "execute_result"
    }
   ],
   "source": [
    "# Tu código aquí\n",
    "table = soup9.find(\"table\", {\"class\":\"wikitable sortable\"})\n",
    "table\n",
    "\n",
    "languages = table.find_all(\"a\", title=True)\n",
    "countries = []\n",
    "for i in languages:\n",
    "    countries.append(i.text.strip())\n",
    "    \n",
    "countries"
   ]
  },
  {
   "cell_type": "markdown",
   "metadata": {},
   "source": [
    "### Subiendo el nivel\n",
    "#### Desafío 10 - La información de los 20 últimos terremotos (fecha, hora, latitud, longitud y nombre de la región) por el EMSC como un dataframe de pandas"
   ]
  },
  {
   "cell_type": "code",
   "execution_count": 33,
   "metadata": {},
   "outputs": [],
   "source": [
    "# This is the url you will scrape in this exercise\n",
    "#url7 = 'https://www.emsc-csem.org/Earthquake/'\n",
    "#url10 = \"https://www.emsc-csem.org/#2\"\n",
    "url10 = \"https://ds.iris.edu/seismon/eventlist/index.phtml\"\n",
    "terremotos = requests.get(url10)\n",
    "soup10 = BeautifulSoup(terremotos.content,\"html.parser\")\n"
   ]
  },
  {
   "cell_type": "code",
   "execution_count": 64,
   "metadata": {},
   "outputs": [
    {
     "data": {
      "text/html": [
       "<div>\n",
       "<style scoped>\n",
       "    .dataframe tbody tr th:only-of-type {\n",
       "        vertical-align: middle;\n",
       "    }\n",
       "\n",
       "    .dataframe tbody tr th {\n",
       "        vertical-align: top;\n",
       "    }\n",
       "\n",
       "    .dataframe thead th {\n",
       "        text-align: right;\n",
       "    }\n",
       "</style>\n",
       "<table border=\"1\" class=\"dataframe\">\n",
       "  <thead>\n",
       "    <tr style=\"text-align: right;\">\n",
       "      <th></th>\n",
       "      <th>Date-Time</th>\n",
       "      <th>Lat</th>\n",
       "      <th>Lon</th>\n",
       "      <th>Mag</th>\n",
       "      <th>Depth</th>\n",
       "      <th>Location</th>\n",
       "    </tr>\n",
       "  </thead>\n",
       "  <tbody>\n",
       "    <tr>\n",
       "      <th>0</th>\n",
       "      <td>25-MAY-2024 10:16:33</td>\n",
       "      <td>18.98</td>\n",
       "      <td>-65.48</td>\n",
       "      <td>4.04</td>\n",
       "      <td>54</td>\n",
       "      <td>PUERTO RICO REGION</td>\n",
       "    </tr>\n",
       "    <tr>\n",
       "      <th>1</th>\n",
       "      <td>25-MAY-2024 10:10:39</td>\n",
       "      <td>-18.05</td>\n",
       "      <td>-177.90</td>\n",
       "      <td>4.4</td>\n",
       "      <td>557</td>\n",
       "      <td>FIJI ISLANDS REGION</td>\n",
       "    </tr>\n",
       "    <tr>\n",
       "      <th>2</th>\n",
       "      <td>25-MAY-2024 08:08:59</td>\n",
       "      <td>56.13</td>\n",
       "      <td>163.72</td>\n",
       "      <td>5.0</td>\n",
       "      <td>32</td>\n",
       "      <td>NEAR EAST COAST OF KAMCHATKA</td>\n",
       "    </tr>\n",
       "    <tr>\n",
       "      <th>3</th>\n",
       "      <td>25-MAY-2024 07:52:08</td>\n",
       "      <td>-27.66</td>\n",
       "      <td>-67.81</td>\n",
       "      <td>4.5</td>\n",
       "      <td>141</td>\n",
       "      <td>CATAMARCA PROVINCE, ARGENTINA</td>\n",
       "    </tr>\n",
       "    <tr>\n",
       "      <th>4</th>\n",
       "      <td>25-MAY-2024 07:37:21</td>\n",
       "      <td>1.15</td>\n",
       "      <td>126.44</td>\n",
       "      <td>4.9</td>\n",
       "      <td>41</td>\n",
       "      <td>NORTHERN MOLUCCA SEA</td>\n",
       "    </tr>\n",
       "    <tr>\n",
       "      <th>5</th>\n",
       "      <td>25-MAY-2024 06:56:38</td>\n",
       "      <td>-20.93</td>\n",
       "      <td>-178.52</td>\n",
       "      <td>4.4</td>\n",
       "      <td>539</td>\n",
       "      <td>FIJI ISLANDS REGION</td>\n",
       "    </tr>\n",
       "    <tr>\n",
       "      <th>6</th>\n",
       "      <td>25-MAY-2024 05:55:51</td>\n",
       "      <td>0.81</td>\n",
       "      <td>131.70</td>\n",
       "      <td>4.8</td>\n",
       "      <td>10</td>\n",
       "      <td>IRIAN JAYA REGION, INDONESIA</td>\n",
       "    </tr>\n",
       "    <tr>\n",
       "      <th>7</th>\n",
       "      <td>25-MAY-2024 05:43:31</td>\n",
       "      <td>-18.05</td>\n",
       "      <td>-178.31</td>\n",
       "      <td>4.3</td>\n",
       "      <td>602</td>\n",
       "      <td>FIJI ISLANDS REGION</td>\n",
       "    </tr>\n",
       "    <tr>\n",
       "      <th>8</th>\n",
       "      <td>25-MAY-2024 05:03:27</td>\n",
       "      <td>-30.73</td>\n",
       "      <td>-71.84</td>\n",
       "      <td>4.1</td>\n",
       "      <td>29</td>\n",
       "      <td>NEAR COAST OF CENTRAL CHILE</td>\n",
       "    </tr>\n",
       "    <tr>\n",
       "      <th>9</th>\n",
       "      <td>25-MAY-2024 04:33:09</td>\n",
       "      <td>-5.68</td>\n",
       "      <td>154.34</td>\n",
       "      <td>4.9</td>\n",
       "      <td>92</td>\n",
       "      <td>SOLOMON ISLANDS</td>\n",
       "    </tr>\n",
       "    <tr>\n",
       "      <th>10</th>\n",
       "      <td>25-MAY-2024 02:49:43</td>\n",
       "      <td>30.12</td>\n",
       "      <td>-42.69</td>\n",
       "      <td>5.0</td>\n",
       "      <td>10</td>\n",
       "      <td>NORTHERN MID-ATLANTIC RIDGE</td>\n",
       "    </tr>\n",
       "    <tr>\n",
       "      <th>11</th>\n",
       "      <td>25-MAY-2024 02:20:08</td>\n",
       "      <td>2.36</td>\n",
       "      <td>126.72</td>\n",
       "      <td>4.8</td>\n",
       "      <td>48</td>\n",
       "      <td>NORTHERN MOLUCCA SEA</td>\n",
       "    </tr>\n",
       "    <tr>\n",
       "      <th>12</th>\n",
       "      <td>25-MAY-2024 00:10:13</td>\n",
       "      <td>3.71</td>\n",
       "      <td>94.86</td>\n",
       "      <td>4.9</td>\n",
       "      <td>23</td>\n",
       "      <td>OFF W COAST OF NORTHERN SUMATRA</td>\n",
       "    </tr>\n",
       "    <tr>\n",
       "      <th>13</th>\n",
       "      <td>24-MAY-2024 22:51:21</td>\n",
       "      <td>-1.22</td>\n",
       "      <td>134.98</td>\n",
       "      <td>4.6</td>\n",
       "      <td>31</td>\n",
       "      <td>IRIAN JAYA REGION, INDONESIA</td>\n",
       "    </tr>\n",
       "    <tr>\n",
       "      <th>14</th>\n",
       "      <td>24-MAY-2024 18:59:32</td>\n",
       "      <td>51.97</td>\n",
       "      <td>173.88</td>\n",
       "      <td>4.4</td>\n",
       "      <td>10</td>\n",
       "      <td>NEAR ISLANDS, ALEUTIAN ISLANDS</td>\n",
       "    </tr>\n",
       "    <tr>\n",
       "      <th>15</th>\n",
       "      <td>24-MAY-2024 17:35:24</td>\n",
       "      <td>39.32</td>\n",
       "      <td>17.06</td>\n",
       "      <td>4.0</td>\n",
       "      <td>10</td>\n",
       "      <td>SOUTHERN ITALY</td>\n",
       "    </tr>\n",
       "    <tr>\n",
       "      <th>16</th>\n",
       "      <td>24-MAY-2024 17:07:12</td>\n",
       "      <td>24.20</td>\n",
       "      <td>121.72</td>\n",
       "      <td>4.6</td>\n",
       "      <td>33</td>\n",
       "      <td>TAIWAN</td>\n",
       "    </tr>\n",
       "    <tr>\n",
       "      <th>17</th>\n",
       "      <td>24-MAY-2024 17:06:37</td>\n",
       "      <td>24.16</td>\n",
       "      <td>121.72</td>\n",
       "      <td>4.4</td>\n",
       "      <td>20</td>\n",
       "      <td>TAIWAN</td>\n",
       "    </tr>\n",
       "    <tr>\n",
       "      <th>18</th>\n",
       "      <td>24-MAY-2024 15:51:32</td>\n",
       "      <td>-1.68</td>\n",
       "      <td>151.82</td>\n",
       "      <td>5.1</td>\n",
       "      <td>32</td>\n",
       "      <td>NEW IRELAND REGION, P.N.G.</td>\n",
       "    </tr>\n",
       "    <tr>\n",
       "      <th>19</th>\n",
       "      <td>24-MAY-2024 14:54:26</td>\n",
       "      <td>-5.84</td>\n",
       "      <td>27.08</td>\n",
       "      <td>4.7</td>\n",
       "      <td>10</td>\n",
       "      <td>DEMOCRATIC REPUBLIC OF CONGO</td>\n",
       "    </tr>\n",
       "  </tbody>\n",
       "</table>\n",
       "</div>"
      ],
      "text/plain": [
       "               Date-Time     Lat      Lon   Mag Depth  \\\n",
       "0   25-MAY-2024 10:16:33   18.98   -65.48  4.04    54   \n",
       "1   25-MAY-2024 10:10:39  -18.05  -177.90   4.4   557   \n",
       "2   25-MAY-2024 08:08:59   56.13   163.72   5.0    32   \n",
       "3   25-MAY-2024 07:52:08  -27.66   -67.81   4.5   141   \n",
       "4   25-MAY-2024 07:37:21    1.15   126.44   4.9    41   \n",
       "5   25-MAY-2024 06:56:38  -20.93  -178.52   4.4   539   \n",
       "6   25-MAY-2024 05:55:51    0.81   131.70   4.8    10   \n",
       "7   25-MAY-2024 05:43:31  -18.05  -178.31   4.3   602   \n",
       "8   25-MAY-2024 05:03:27  -30.73   -71.84   4.1    29   \n",
       "9   25-MAY-2024 04:33:09   -5.68   154.34   4.9    92   \n",
       "10  25-MAY-2024 02:49:43   30.12   -42.69   5.0    10   \n",
       "11  25-MAY-2024 02:20:08    2.36   126.72   4.8    48   \n",
       "12  25-MAY-2024 00:10:13    3.71    94.86   4.9    23   \n",
       "13  24-MAY-2024 22:51:21   -1.22   134.98   4.6    31   \n",
       "14  24-MAY-2024 18:59:32   51.97   173.88   4.4    10   \n",
       "15  24-MAY-2024 17:35:24   39.32    17.06   4.0    10   \n",
       "16  24-MAY-2024 17:07:12   24.20   121.72   4.6    33   \n",
       "17  24-MAY-2024 17:06:37   24.16   121.72   4.4    20   \n",
       "18  24-MAY-2024 15:51:32   -1.68   151.82   5.1    32   \n",
       "19  24-MAY-2024 14:54:26   -5.84    27.08   4.7    10   \n",
       "\n",
       "                           Location  \n",
       "0                PUERTO RICO REGION  \n",
       "1               FIJI ISLANDS REGION  \n",
       "2      NEAR EAST COAST OF KAMCHATKA  \n",
       "3     CATAMARCA PROVINCE, ARGENTINA  \n",
       "4              NORTHERN MOLUCCA SEA  \n",
       "5               FIJI ISLANDS REGION  \n",
       "6      IRIAN JAYA REGION, INDONESIA  \n",
       "7               FIJI ISLANDS REGION  \n",
       "8       NEAR COAST OF CENTRAL CHILE  \n",
       "9                   SOLOMON ISLANDS  \n",
       "10      NORTHERN MID-ATLANTIC RIDGE  \n",
       "11             NORTHERN MOLUCCA SEA  \n",
       "12  OFF W COAST OF NORTHERN SUMATRA  \n",
       "13     IRIAN JAYA REGION, INDONESIA  \n",
       "14   NEAR ISLANDS, ALEUTIAN ISLANDS  \n",
       "15                   SOUTHERN ITALY  \n",
       "16                           TAIWAN  \n",
       "17                           TAIWAN  \n",
       "18       NEW IRELAND REGION, P.N.G.  \n",
       "19     DEMOCRATIC REPUBLIC OF CONGO  "
      ]
     },
     "execution_count": 64,
     "metadata": {},
     "output_type": "execute_result"
    }
   ],
   "source": [
    "eqtable = soup10.find(\"table\", class_=\"tablesorter\").find_all(\"tr\")\n",
    "\n",
    "earthquakes = []\n",
    "\n",
    "for row in eqtable[1:21]:\n",
    "    col=row.find_all(\"td\")\n",
    "    date =col[0].text.strip()\n",
    "    lat =col[1].text.strip()\n",
    "    lon =col[2].text.strip()\n",
    "    mag=col[3].text.strip()\n",
    "    depth=col[4].text.strip()\n",
    "    location=col[5].text.strip()\n",
    "    earthquakes.append([date,lat,lon,mag,depth,location])\n",
    "    \n",
    "earthquakes\n",
    "\n",
    "df = pd.DataFrame(earthquakes, columns=[\"Date-Time\", \"Lat\", \"Lon\", \"Mag\",\"Depth\",\"Location\"])\n",
    "df"
   ]
  },
  {
   "cell_type": "code",
   "execution_count": null,
   "metadata": {},
   "outputs": [],
   "source": [
    "\n",
    "lista_20_terremotos = []\n",
    "for i in dates[0:21]:\n",
    "    dato = i.find_all(\"td\")\n",
    "    date = dato.text.strip()\n",
    "    lat = dato[1].text.strip()\n",
    "    lon = dato[2].text.strip()\n",
    "    mag= dato[3].text.strip()\n",
    "    depth= dato[4].text.strip()\n",
    "    location= dato[5].text.strip()\n",
    "    lista_20_terremotos.append([date,lat,lon,mag,depth,location])"
   ]
  },
  {
   "cell_type": "code",
   "execution_count": 43,
   "metadata": {},
   "outputs": [
    {
     "ename": "NameError",
     "evalue": "name 'eqgrows' is not defined",
     "output_type": "error",
     "traceback": [
      "\u001b[1;31m---------------------------------------------------------------------------\u001b[0m",
      "\u001b[1;31mNameError\u001b[0m                                 Traceback (most recent call last)",
      "Cell \u001b[1;32mIn[43], line 6\u001b[0m\n\u001b[0;32m      2\u001b[0m eqrows \u001b[38;5;241m=\u001b[39m eqtable\u001b[38;5;241m.\u001b[39mfind_all(\u001b[38;5;124m\"\u001b[39m\u001b[38;5;124mtr\u001b[39m\u001b[38;5;124m\"\u001b[39m)\n\u001b[0;32m      4\u001b[0m earthquakes \u001b[38;5;241m=\u001b[39m []\n\u001b[1;32m----> 6\u001b[0m \u001b[38;5;28;01mfor\u001b[39;00m row \u001b[38;5;129;01min\u001b[39;00m \u001b[43meqgrows\u001b[49m[\u001b[38;5;241m1\u001b[39m:\u001b[38;5;241m21\u001b[39m]:\n\u001b[0;32m      7\u001b[0m     col\u001b[38;5;241m=\u001b[39mrow\u001b[38;5;241m.\u001b[39mfind_all(\u001b[38;5;124m\"\u001b[39m\u001b[38;5;124mtd\u001b[39m\u001b[38;5;124m\"\u001b[39m)\n\u001b[0;32m      8\u001b[0m     date \u001b[38;5;241m=\u001b[39mcol[\u001b[38;5;241m0\u001b[39m]\u001b[38;5;241m.\u001b[39mtext\u001b[38;5;241m.\u001b[39mstrip()\n",
      "\u001b[1;31mNameError\u001b[0m: name 'eqgrows' is not defined"
     ]
    }
   ],
   "source": [
    "eqtable = soup10.find(\"table\", class_=\"tablesorter\")\n",
    "eqrows = eqtable.find_all(\"tr\")\n",
    "\n",
    "earthquakes = []\n",
    "\n",
    "for row in eqgrows[1:21]:\n",
    "    col=row.find_all(\"td\")\n",
    "    date =col[0].text.strip()\n",
    "    lat =col[1].text.strip()\n",
    "    lon =col[2].text.strip()\n",
    "    mag=col[3].text.strip()\n",
    "    depth=col[4].text.strip()\n",
    "    location=col[5].text.strip()\n",
    "    earthquakes.append([date,lat,lon,mag,depth,location])\n",
    "    \n",
    "earthquakes;"
   ]
  },
  {
   "cell_type": "markdown",
   "metadata": {},
   "source": [
    "#### Desafío 11 - Datos del Top 250 de IMDB (nombre de la película, lanzamiento inicial, nombre del director y estrellas) como un dataframe de pandas"
   ]
  },
  {
   "cell_type": "code",
   "execution_count": 24,
   "metadata": {},
   "outputs": [],
   "source": [
    "# This is the url you will scrape in this exercise \n",
    "url11 = 'https://www.imdb.com/chart/top'\n",
    "pelis = requests.get(url11)\n",
    "soup = BeautifulSoup(pelis.content,\"html.parser\")"
   ]
  },
  {
   "cell_type": "code",
   "execution_count": 25,
   "metadata": {},
   "outputs": [],
   "source": [
    "# Tu código aquí"
   ]
  },
  {
   "cell_type": "markdown",
   "metadata": {},
   "source": [
    "#### Desafío 12 - Nombre de la película, año y un breve resumen de las 10 películas aleatorias top (IMDB) como un dataframe de pandas."
   ]
  },
  {
   "cell_type": "code",
   "execution_count": 26,
   "metadata": {},
   "outputs": [],
   "source": [
    "#This is the url you will scrape in this exercise\n",
    "url = 'http://www.imdb.com/chart/top'"
   ]
  },
  {
   "cell_type": "code",
   "execution_count": 27,
   "metadata": {},
   "outputs": [],
   "source": [
    "years = list(soup.find_all(\"span\", {\"class\": \"secondaryInfo\"}))"
   ]
  },
  {
   "cell_type": "code",
   "execution_count": 28,
   "metadata": {},
   "outputs": [],
   "source": [
    "# Tu código aquí"
   ]
  },
  {
   "cell_type": "markdown",
   "metadata": {},
   "source": [
    "#### Desafío 13 - Encontrar el reporte meteorológico en vivo (temperatura, velocidad del viento, descripción y clima) de una ciudad dada."
   ]
  },
  {
   "cell_type": "code",
   "execution_count": 29,
   "metadata": {},
   "outputs": [],
   "source": [
    "#https://openweathermap.org/current"
   ]
  },
  {
   "cell_type": "code",
   "execution_count": 30,
   "metadata": {},
   "outputs": [],
   "source": [
    "def weather(city):\n",
    "    pass"
   ]
  },
  {
   "cell_type": "markdown",
   "metadata": {},
   "source": [
    "#### Desafío 14 - Nombre del libro, precio y disponibilidad de stock como un dataframe de pandas."
   ]
  },
  {
   "cell_type": "code",
   "execution_count": 31,
   "metadata": {},
   "outputs": [],
   "source": [
    "# This is the url you will scrape in this exercise. \n",
    "# It is a fictional bookstore created to be scraped. \n",
    "url14 = 'http://books.toscrape.com/'\n",
    "books = requests.get(url11)\n",
    "soup = BeautifulSoup(books.content,\"html.parser\")"
   ]
  },
  {
   "cell_type": "code",
   "execution_count": 32,
   "metadata": {},
   "outputs": [],
   "source": [
    "libros = list(soup.select('h1.h3 a[tittle]'))\n",
    "#nombres = soup.select('h1.h3 a[tittle]')"
   ]
  },
  {
   "cell_type": "code",
   "execution_count": 33,
   "metadata": {},
   "outputs": [],
   "source": [
    "# Tu código aquí"
   ]
  },
  {
   "cell_type": "markdown",
   "metadata": {},
   "source": [
    "**Limitates tu output? Gracias! 🙂**"
   ]
  }
 ],
 "metadata": {
  "kernelspec": {
   "display_name": "Python 3 (ipykernel)",
   "language": "python",
   "name": "python3"
  },
  "language_info": {
   "codemirror_mode": {
    "name": "ipython",
    "version": 3
   },
   "file_extension": ".py",
   "mimetype": "text/x-python",
   "name": "python",
   "nbconvert_exporter": "python",
   "pygments_lexer": "ipython3",
   "version": "3.12.2"
  },
  "toc": {
   "base_numbering": 1,
   "nav_menu": {},
   "number_sections": true,
   "sideBar": true,
   "skip_h1_title": false,
   "title_cell": "Table of Contents",
   "title_sidebar": "Contents",
   "toc_cell": true,
   "toc_position": {},
   "toc_section_display": true,
   "toc_window_display": false
  },
  "varInspector": {
   "cols": {
    "lenName": 16,
    "lenType": 16,
    "lenVar": 40
   },
   "kernels_config": {
    "python": {
     "delete_cmd_postfix": "",
     "delete_cmd_prefix": "del ",
     "library": "var_list.py",
     "varRefreshCmd": "print(var_dic_list())"
    },
    "r": {
     "delete_cmd_postfix": ") ",
     "delete_cmd_prefix": "rm(",
     "library": "var_list.r",
     "varRefreshCmd": "cat(var_dic_list()) "
    }
   },
   "types_to_exclude": [
    "module",
    "function",
    "builtin_function_or_method",
    "instance",
    "_Feature"
   ],
   "window_display": false
  }
 },
 "nbformat": 4,
 "nbformat_minor": 4
}
